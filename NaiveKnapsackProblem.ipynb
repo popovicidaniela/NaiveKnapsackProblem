{
 "cells": [
  {
   "cell_type": "code",
   "execution_count": 22,
   "metadata": {
    "collapsed": true,
    "deletable": true,
    "editable": true
   },
   "outputs": [],
   "source": [
    "line = '75 : (1,85.31,$29) (2,14.55,$74) (3,3.98,$16) (4,26.24,$55) (5,63.69,$52) (6,76.25,$75) (7,60.02,$74) (8,93.18,$35) (9,89.95,$78)'"
   ]
  },
  {
   "cell_type": "code",
   "execution_count": 23,
   "metadata": {
    "collapsed": true,
    "deletable": true,
    "editable": true
   },
   "outputs": [],
   "source": [
    "new = line.split(':')"
   ]
  },
  {
   "cell_type": "code",
   "execution_count": 24,
   "metadata": {
    "collapsed": false,
    "deletable": true,
    "editable": true
   },
   "outputs": [
    {
     "data": {
      "text/plain": [
       "75.0"
      ]
     },
     "execution_count": 24,
     "metadata": {},
     "output_type": "execute_result"
    }
   ],
   "source": [
    "W = float(new[0])\n",
    "things = new[1].split()\n",
    "W"
   ]
  },
  {
   "cell_type": "code",
   "execution_count": 25,
   "metadata": {
    "collapsed": false,
    "deletable": true,
    "editable": true
   },
   "outputs": [
    {
     "data": {
      "text/plain": [
       "[[85.31, 29.0],\n",
       " [14.55, 74.0],\n",
       " [3.98, 16.0],\n",
       " [26.24, 55.0],\n",
       " [63.69, 52.0],\n",
       " [76.25, 75.0],\n",
       " [60.02, 74.0],\n",
       " [93.18, 35.0],\n",
       " [89.95, 78.0]]"
      ]
     },
     "execution_count": 25,
     "metadata": {},
     "output_type": "execute_result"
    }
   ],
   "source": [
    "floatThings=[]\n",
    "for i in things:\n",
    "    i = list(map(float, i[3:-1].replace(\"$\", \"\").split(',')))\n",
    "    floatThings.append(i)\n",
    "floatThings"
   ]
  },
  {
   "cell_type": "code",
   "execution_count": 26,
   "metadata": {
    "collapsed": false,
    "deletable": true,
    "editable": true
   },
   "outputs": [
    {
     "name": "stdout",
     "output_type": "stream",
     "text": [
      "8\n"
     ]
    }
   ],
   "source": [
    "maxW = 0.\n",
    "maxCost = 0.\n",
    "passedNodes=[]\n",
    "addTogether=[0, 0]\n",
    "bestcombination=[]\n",
    "combinations=[]\n",
    "\n",
    "import itertools\n",
    "for i in range(1,len(floatThings)):\n",
    "    combinations.append(list(itertools.combinations(floatThings, i)))\n",
    "    \n",
    "print(len(combinations))"
   ]
  },
  {
   "cell_type": "code",
   "execution_count": 27,
   "metadata": {
    "collapsed": false,
    "deletable": true,
    "editable": true
   },
   "outputs": [
    {
     "name": "stdout",
     "output_type": "stream",
     "text": [
      "2,7\n"
     ]
    }
   ],
   "source": [
    "for i in combinations:\n",
    "    for j in i:\n",
    "        if len(j)==1:\n",
    "            addTogether = j[0]\n",
    "        else:\n",
    "            for k in j:\n",
    "                addTogether = [x + y for x, y in zip(addTogether, k)]\n",
    "        if addTogether[0]>=maxW and addTogether[0]<=W and addTogether[1]>=maxCost:\n",
    "            maxW = addTogether[0]\n",
    "            maxCost = addTogether[1]\n",
    "            bestcombination = j\n",
    "        addTogether=[0, 0]\n",
    "s=\"\"\n",
    "for i in bestcombination:\n",
    "    s = s + repr(floatThings.index(i)+1)+','\n",
    "print(s[:-1])"
   ]
  }
 ],
 "metadata": {
  "kernelspec": {
   "display_name": "Python [default]",
   "language": "python",
   "name": "python3"
  },
  "language_info": {
   "codemirror_mode": {
    "name": "ipython",
    "version": 3
   },
   "file_extension": ".py",
   "mimetype": "text/x-python",
   "name": "python",
   "nbconvert_exporter": "python",
   "pygments_lexer": "ipython3",
   "version": "3.5.3"
  }
 },
 "nbformat": 4,
 "nbformat_minor": 2
}
